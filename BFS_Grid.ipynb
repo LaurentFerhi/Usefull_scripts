{
 "cells": [
  {
   "cell_type": "code",
   "execution_count": 1,
   "metadata": {},
   "outputs": [
    {
     "name": "stdout",
     "output_type": "stream",
     "text": [
      "11\n"
     ]
    }
   ],
   "source": [
    "from collections import deque\n",
    "\n",
    "# To store matrix cell coordinates\n",
    "class Point:\n",
    "    def __init__(self,x: int, y: int):\n",
    "        self.x = x\n",
    "        self.y = y\n",
    "\n",
    "class queueNode:\n",
    "    def __init__(self,pt: Point, dist: int):\n",
    "        self.pt = pt  # The coordinates of the cell\n",
    "        self.dist = dist  # Cell's distance from the source\n",
    "\n",
    "# Check whether given cell(row,col) is a valid cell or not\n",
    "def isValid(row, col):\n",
    "    return (row >= 0) and (row < ROW) and (col >= 0) and (col < COL)\n",
    "\n",
    "# Function to find the shortest path between a given source cell to a destination cell.\n",
    "def BFS(mat, src, dest):\n",
    "     \n",
    "    # check source and destination cell of the matrix have value 1\n",
    "    if mat[src.x][src.y]!=1 or mat[dest.x][dest.y] != 1:\n",
    "        return -1\n",
    "     \n",
    "    visited = [[False for i in range(COL)] for j in range(ROW)]\n",
    "     \n",
    "    # Mark the source cell as visited\n",
    "    visited[src.x][src.y] = True\n",
    "     \n",
    "    # Create a queue for BFS\n",
    "    q = deque()\n",
    "     \n",
    "    # Distance of source cell is 0\n",
    "    s = queueNode(src,0)\n",
    "    q.append(s) #  Enqueue source cell\n",
    "     \n",
    "    # Do a BFS starting from source cell\n",
    "    while q:\n",
    " \n",
    "        curr = q.popleft() # Dequeue the front cell\n",
    "         \n",
    "        # If we have reached the destination cell we are done\n",
    "        pt = curr.pt\n",
    "        if pt.x == dest.x and pt.y == dest.y:\n",
    "            return curr.dist\n",
    "         \n",
    "        # Otherwise enqueue its adjacent cells\n",
    "        for i in range(4):\n",
    "            row = pt.x + rowNum[i]\n",
    "            col = pt.y + colNum[i]\n",
    "             \n",
    "            # if adjacent cell is valid, has path and not visited yet, enqueue it.\n",
    "            if isValid(row,col) and mat[row][col] == 1 and not visited[row][col]:\n",
    "                visited[row][col] = True\n",
    "                Adjcell = queueNode(Point(row,col),curr.dist+1)\n",
    "                q.append(Adjcell)\n",
    "     \n",
    "    # Return -1 if destination cannot be reached\n",
    "    return -1\n",
    " \n",
    "def solve(grid, start, end):\n",
    "    dist = BFS(grid,start,dest) \n",
    "    if dist!=-1:\n",
    "        print(dist)\n",
    "    else:\n",
    "        print(-1)\n",
    "\n",
    "grid = [[1, 0, 1, 1, 1, 1, 0, 1, 1, 1],\n",
    "        [1, 0, 1, 0, 1, 1, 1, 0, 1, 1],\n",
    "        [1, 1, 1, 0, 1, 1, 0, 1, 0, 1],\n",
    "        [0, 0, 0, 0, 1, 0, 0, 0, 0, 1],\n",
    "        [1, 1, 1, 0, 1, 1, 1, 0, 1, 0],\n",
    "        [1, 0, 1, 1, 1, 1, 0, 1, 0, 0],\n",
    "        [1, 0, 0, 0, 0, 0, 0, 0, 0, 1],\n",
    "        [1, 0, 1, 1, 1, 1, 0, 1, 1, 1],\n",
    "        [1, 1, 0, 0, 0, 0, 1, 0, 0, 1]]\n",
    "\n",
    "ROW = 9\n",
    "COL = 10\n",
    "\n",
    "# These arrays are used to get row and column numbers of 4 neighbours of a given cell\n",
    "rowNum = [-1, 0, 0, 1]\n",
    "colNum = [0, -1, 1, 0]\n",
    "\n",
    "source = Point(0,0)\n",
    "dest = Point(3,4)\n",
    "solve(grid,source,dest)"
   ]
  },
  {
   "cell_type": "code",
   "execution_count": 5,
   "metadata": {},
   "outputs": [
    {
     "name": "stdout",
     "output_type": "stream",
     "text": [
      "17\n"
     ]
    }
   ],
   "source": [
    "grid = [[1, 1, 1, 1, 1, 1, 1, 1, 1, 1, 1, 1],\n",
    " [1, 1, 1, 1, 1, 1, 1, 1, 0, 0, 0, 1],\n",
    " [1, 1, 1, 1, 1, 1, 1, 1, 0, 0, 0, 1],\n",
    " [1, 1, 1, 1, 1, 1, 1, 1, 0, 0, 0, 1],\n",
    " [1, 1, 1, 1, 0, 0, 0, 0, 0, 0, 0, 1],\n",
    " [1, 1, 1, 1, 0, 0, 0, 0, 0, 0, 0, 1],\n",
    " [1,1 ,1 ,1 ,0 ,0 ,0 ,0 ,0, 0, 0, 1],\n",
    " [1, 1, 1, 1, 1, 1, 1, 1, 1, 1, 1, 1],\n",
    " [1, 1, 0, 1, 1, 1, 1, 1, 1, 1, 1, 1],\n",
    " [1, 1, 0, 1, 1, 1, 1, 1, 1, 0, 0, 1],\n",
    " [1, 1, 0, 1, 1, 1, 1, 1, 1, 0, 0, 1],\n",
    " [1, 1, 0, 1, 1, 1, 1, 1, 1, 0, 0, 1],\n",
    " [1, 1, 0, 1, 1, 1, 1, 1, 1, 0, 0, 1],\n",
    " [1, 1, 0, 1, 1, 1, 1, 1, 1, 0, 0, 1],\n",
    " [1, 1, 0, 1, 1, 1, 1, 1, 1, 1, 1, 1],\n",
    " [1, 1, 1, 1, 1, 1, 1, 1, 1, 1, 1, 1]]\n",
    "\n",
    "ROW = 16\n",
    "COL = 12\n",
    "\n",
    "# These arrays are used to get row and column numbers of 4 neighbours of a given cell\n",
    "rowNum = [-1, 0, 0, 1]\n",
    "colNum = [0, -1, 1, 0]\n",
    "\n",
    "source = Point(12,8)\n",
    "dest = Point(1,2)\n",
    "solve(grid,source,dest)"
   ]
  },
  {
   "cell_type": "code",
   "execution_count": null,
   "metadata": {},
   "outputs": [],
   "source": []
  }
 ],
 "metadata": {
  "kernelspec": {
   "display_name": "Python 3",
   "language": "python",
   "name": "python3"
  },
  "language_info": {
   "codemirror_mode": {
    "name": "ipython",
    "version": 3
   },
   "file_extension": ".py",
   "mimetype": "text/x-python",
   "name": "python",
   "nbconvert_exporter": "python",
   "pygments_lexer": "ipython3",
   "version": "3.7.6"
  }
 },
 "nbformat": 4,
 "nbformat_minor": 4
}
